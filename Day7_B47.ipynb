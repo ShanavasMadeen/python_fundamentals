{
 "cells": [
  {
   "cell_type": "code",
   "execution_count": null,
   "id": "584383c3",
   "metadata": {},
   "outputs": [],
   "source": [
    "# slicing of list"
   ]
  },
  {
   "cell_type": "code",
   "execution_count": null,
   "id": "398648d0",
   "metadata": {},
   "outputs": [],
   "source": [
    "#variable[startValue:stopvalue:stepcount<optional>]"
   ]
  },
  {
   "cell_type": "code",
   "execution_count": 1,
   "id": "2383981e",
   "metadata": {},
   "outputs": [],
   "source": [
    "students = ['a','b','c','d','e']"
   ]
  },
  {
   "cell_type": "code",
   "execution_count": 2,
   "id": "7fcf908f",
   "metadata": {},
   "outputs": [
    {
     "name": "stdout",
     "output_type": "stream",
     "text": [
      "['a', 'b', 'c', 'd', 'e']\n"
     ]
    }
   ],
   "source": [
    "print(students)"
   ]
  },
  {
   "cell_type": "code",
   "execution_count": 3,
   "id": "3c42eece",
   "metadata": {},
   "outputs": [
    {
     "name": "stdout",
     "output_type": "stream",
     "text": [
      "['a', 'b']\n"
     ]
    }
   ],
   "source": [
    "print(students[0:2])"
   ]
  },
  {
   "cell_type": "code",
   "execution_count": 21,
   "id": "71291ab4",
   "metadata": {},
   "outputs": [
    {
     "name": "stdout",
     "output_type": "stream",
     "text": [
      "['a', 'c', 'e']\n"
     ]
    }
   ],
   "source": [
    "print(students[0:8:2])"
   ]
  },
  {
   "cell_type": "code",
   "execution_count": 22,
   "id": "4e3cfc98",
   "metadata": {},
   "outputs": [],
   "source": [
    "#Implementation of range method --- > [start,stop,stepcount<optional>]"
   ]
  },
  {
   "cell_type": "code",
   "execution_count": 31,
   "id": "e187c567",
   "metadata": {},
   "outputs": [
    {
     "name": "stdout",
     "output_type": "stream",
     "text": [
      "[0, 1, 2, 3, 4, 5, 6, 7, 8, 9, 10, 11, 12, 13, 14, 15, 16, 17, 18, 19, 20, 21, 22, 23, 24, 25, 26, 27, 28, 29, 30, 31, 32, 33, 34, 35, 36, 37, 38, 39, 40, 41, 42, 43, 44, 45, 46, 47, 48, 49, 50, 51, 52, 53, 54, 55, 56, 57, 58, 59, 60, 61, 62, 63, 64, 65, 66, 67, 68, 69, 70, 71, 72, 73, 74, 75, 76, 77, 78, 79, 80, 81, 82, 83, 84, 85, 86, 87, 88, 89, 90, 91, 92, 93, 94, 95, 96, 97, 98, 99]\n"
     ]
    }
   ],
   "source": [
    "numbers99 = list(range(0,100))\n",
    "print(numbers99)"
   ]
  },
  {
   "cell_type": "code",
   "execution_count": null,
   "id": "d6067a3d",
   "metadata": {},
   "outputs": [],
   "source": [
    "# print even numbers till 20"
   ]
  },
  {
   "cell_type": "code",
   "execution_count": 33,
   "id": "6f48eeb4",
   "metadata": {},
   "outputs": [
    {
     "name": "stdout",
     "output_type": "stream",
     "text": [
      "[2, 4, 6, 8, 10, 12, 14, 16, 18]\n"
     ]
    }
   ],
   "source": [
    "even_numbers_till20 = list(range(2,20,2))\n",
    "print(even_numbers_till20)"
   ]
  },
  {
   "cell_type": "code",
   "execution_count": null,
   "id": "2bbae66e",
   "metadata": {},
   "outputs": [],
   "source": [
    "# print odd numbers till 50"
   ]
  },
  {
   "cell_type": "code",
   "execution_count": 34,
   "id": "34c87267",
   "metadata": {},
   "outputs": [
    {
     "name": "stdout",
     "output_type": "stream",
     "text": [
      "[1, 3, 5, 7, 9, 11, 13, 15, 17, 19, 21, 23, 25, 27, 29, 31, 33, 35, 37, 39, 41, 43, 45, 47, 49]\n"
     ]
    }
   ],
   "source": [
    "Odd_numbers_till50 = list(range(1,50,2))\n",
    "print(Odd_numbers_till50)"
   ]
  },
  {
   "cell_type": "code",
   "execution_count": null,
   "id": "424a5279",
   "metadata": {},
   "outputs": [],
   "source": []
  }
 ],
 "metadata": {
  "kernelspec": {
   "display_name": "Python 3",
   "language": "python",
   "name": "python3"
  },
  "language_info": {
   "codemirror_mode": {
    "name": "ipython",
    "version": 3
   },
   "file_extension": ".py",
   "mimetype": "text/x-python",
   "name": "python",
   "nbconvert_exporter": "python",
   "pygments_lexer": "ipython3",
   "version": "3.8.8"
  }
 },
 "nbformat": 4,
 "nbformat_minor": 5
}
